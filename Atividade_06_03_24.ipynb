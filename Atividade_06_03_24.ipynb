{
  "nbformat": 4,
  "nbformat_minor": 0,
  "metadata": {
    "colab": {
      "provenance": [],
      "authorship_tag": "ABX9TyPOMZoOPuggDIStHgwPzmGB",
      "include_colab_link": true
    },
    "kernelspec": {
      "name": "python3",
      "display_name": "Python 3"
    },
    "language_info": {
      "name": "python"
    }
  },
  "cells": [
    {
      "cell_type": "markdown",
      "metadata": {
        "id": "view-in-github",
        "colab_type": "text"
      },
      "source": [
        "<a href=\"https://colab.research.google.com/github/anavls/Atividade1/blob/main/Atividade_06_03_24.ipynb\" target=\"_parent\"><img src=\"https://colab.research.google.com/assets/colab-badge.svg\" alt=\"Open In Colab\"/></a>"
      ]
    },
    {
      "cell_type": "markdown",
      "source": [
        "Primeira questão"
      ],
      "metadata": {
        "id": "Mi9aGiI2K6iF"
      }
    },
    {
      "cell_type": "code",
      "execution_count": 2,
      "metadata": {
        "colab": {
          "base_uri": "https://localhost:8080/"
        },
        "id": "0kchnYW4Edsl",
        "outputId": "7287f855-946a-4796-81bf-c53091078493"
      },
      "outputs": [
        {
          "output_type": "stream",
          "name": "stdout",
          "text": [
            "Digite uma mensagembomdia\n",
            "Você digitou: bomdia\n"
          ]
        }
      ],
      "source": [
        "mensagem = input(\"Digite uma mensagem\")\n",
        "print(\"Você digitou:\", mensagem)"
      ]
    },
    {
      "cell_type": "markdown",
      "source": [
        "Segunda questão"
      ],
      "metadata": {
        "id": "xuJ6a4A3LDb7"
      }
    },
    {
      "cell_type": "code",
      "source": [
        "nota1 = float(input('Digite a primeira nota: '))\n",
        "nota2 = float(input('Digite a segunda nota: '))\n",
        "nota3 = float(input('Digite a terceira nota: '))\n",
        "\n",
        "media = (nota1 + nota2 + nota3) / 3\n",
        "\n",
        "print(\"A média das notas é \" ,media)"
      ],
      "metadata": {
        "colab": {
          "base_uri": "https://localhost:8080/"
        },
        "id": "Pgunt_ULF5Ik",
        "outputId": "f43697bc-3a26-4497-e3d9-59132e82777c"
      },
      "execution_count": 6,
      "outputs": [
        {
          "output_type": "stream",
          "name": "stdout",
          "text": [
            "Digite a primeira nota: 5\n",
            "Digite a segunda nota: 3\n",
            "Digite a terceira nota: 10\n",
            "A média das notas é  6.0\n"
          ]
        }
      ]
    },
    {
      "cell_type": "markdown",
      "source": [
        "Terceira questão"
      ],
      "metadata": {
        "id": "iZdt1XvcLIDK"
      }
    },
    {
      "cell_type": "code",
      "source": [
        "horas = int(input(\"Digite o número de horas: \"))\n",
        "minutos = horas * 60\n",
        "print(minutos,\"minutos\")"
      ],
      "metadata": {
        "colab": {
          "base_uri": "https://localhost:8080/"
        },
        "id": "j00dE8bnH9YR",
        "outputId": "4c927599-6b1c-40b4-de88-8ef81bb62c97"
      },
      "execution_count": 8,
      "outputs": [
        {
          "output_type": "stream",
          "name": "stdout",
          "text": [
            "Digite o número de horas: 80\n",
            "4800 minutos\n"
          ]
        }
      ]
    },
    {
      "cell_type": "markdown",
      "source": [
        "Quarta questão"
      ],
      "metadata": {
        "id": "uw1Hg_JsLNvA"
      }
    },
    {
      "cell_type": "code",
      "source": [
        "numero = float(input(\"Digite um numero:\"))\n",
        "dobro = numero * 2\n",
        "print(\"O dobro de\", numero, \"é\", dobro)"
      ],
      "metadata": {
        "colab": {
          "base_uri": "https://localhost:8080/"
        },
        "id": "IaUuggmxLVhO",
        "outputId": "b948f89b-0674-4846-e1b0-4d965428c9db"
      },
      "execution_count": 10,
      "outputs": [
        {
          "output_type": "stream",
          "name": "stdout",
          "text": [
            "Digite um numero:5\n",
            "O dobro de 5.0 é 10.0\n"
          ]
        }
      ]
    }
  ]
}